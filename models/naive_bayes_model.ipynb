{
 "cells": [
  {
   "cell_type": "code",
   "execution_count": 17,
   "id": "83c2fe05",
   "metadata": {},
   "outputs": [],
   "source": [
    "#Importing all the libraries\n",
    "\n",
    "import pandas as pd\n",
    "import numpy as np\n",
    "import matplotlib.pyplot as plt\n",
    "import seaborn as sns\n",
    "from sklearn.model_selection import train_test_split\n",
    "from sklearn.naive_bayes import GaussianNB\n",
    "from sklearn import tree\n",
    "from sklearn.metrics import accuracy_score\n",
    "from sklearn.metrics import confusion_matrix, classification_report\n",
    "\n",
    "%matplotlib inline"
   ]
  },
  {
   "cell_type": "code",
   "execution_count": 70,
   "id": "32e7817c",
   "metadata": {},
   "outputs": [],
   "source": [
    "# Importing the data\n",
    "\n",
    "df = pd.read_csv(\"../data/loan_default_dataset_pre-processed.csv\")"
   ]
  },
  {
   "cell_type": "code",
   "execution_count": 71,
   "id": "a510b894",
   "metadata": {},
   "outputs": [
    {
     "data": {
      "text/plain": [
       "(128780, 17)"
      ]
     },
     "execution_count": 71,
     "metadata": {},
     "output_type": "execute_result"
    }
   ],
   "source": [
    "df.shape"
   ]
  },
  {
   "cell_type": "code",
   "execution_count": 72,
   "id": "d1f4a0d8",
   "metadata": {},
   "outputs": [
    {
     "data": {
      "text/html": [
       "<div>\n",
       "<style scoped>\n",
       "    .dataframe tbody tr th:only-of-type {\n",
       "        vertical-align: middle;\n",
       "    }\n",
       "\n",
       "    .dataframe tbody tr th {\n",
       "        vertical-align: top;\n",
       "    }\n",
       "\n",
       "    .dataframe thead th {\n",
       "        text-align: right;\n",
       "    }\n",
       "</style>\n",
       "<table border=\"1\" class=\"dataframe\">\n",
       "  <thead>\n",
       "    <tr style=\"text-align: right;\">\n",
       "      <th></th>\n",
       "      <th>Default</th>\n",
       "      <th>Asst_Reg</th>\n",
       "      <th>File_Status</th>\n",
       "      <th>Duration</th>\n",
       "      <th>GGGrade</th>\n",
       "      <th>Validation</th>\n",
       "      <th>Unpaid_2_years</th>\n",
       "      <th>Debt_to_Income</th>\n",
       "      <th>Deprecatory_Records</th>\n",
       "      <th>Home_Status</th>\n",
       "      <th>Lend_Amount</th>\n",
       "      <th>Account_Open</th>\n",
       "      <th>Gross_Collection</th>\n",
       "      <th>Unpaid_Amount</th>\n",
       "      <th>Sub_GGGrade</th>\n",
       "      <th>Total_Unpaid_CL</th>\n",
       "      <th>ID</th>\n",
       "    </tr>\n",
       "  </thead>\n",
       "  <tbody>\n",
       "    <tr>\n",
       "      <th>0</th>\n",
       "      <td>0</td>\n",
       "      <td>-1.192816</td>\n",
       "      <td>1</td>\n",
       "      <td>3</td>\n",
       "      <td>2</td>\n",
       "      <td>1</td>\n",
       "      <td>0</td>\n",
       "      <td>-1.361324</td>\n",
       "      <td>0</td>\n",
       "      <td>4</td>\n",
       "      <td>1.228743</td>\n",
       "      <td>17</td>\n",
       "      <td>0.0</td>\n",
       "      <td>0.099572</td>\n",
       "      <td>19</td>\n",
       "      <td>58598.0</td>\n",
       "      <td>95074</td>\n",
       "    </tr>\n",
       "    <tr>\n",
       "      <th>1</th>\n",
       "      <td>0</td>\n",
       "      <td>0.345029</td>\n",
       "      <td>2</td>\n",
       "      <td>5</td>\n",
       "      <td>4</td>\n",
       "      <td>2</td>\n",
       "      <td>0</td>\n",
       "      <td>-1.634229</td>\n",
       "      <td>0</td>\n",
       "      <td>3</td>\n",
       "      <td>0.943210</td>\n",
       "      <td>15</td>\n",
       "      <td>0.0</td>\n",
       "      <td>-0.493092</td>\n",
       "      <td>30</td>\n",
       "      <td>18924.0</td>\n",
       "      <td>134131</td>\n",
       "    </tr>\n",
       "    <tr>\n",
       "      <th>2</th>\n",
       "      <td>0</td>\n",
       "      <td>0.467990</td>\n",
       "      <td>2</td>\n",
       "      <td>5</td>\n",
       "      <td>3</td>\n",
       "      <td>2</td>\n",
       "      <td>0</td>\n",
       "      <td>-0.409389</td>\n",
       "      <td>0</td>\n",
       "      <td>3</td>\n",
       "      <td>-0.600551</td>\n",
       "      <td>7</td>\n",
       "      <td>0.0</td>\n",
       "      <td>-0.675617</td>\n",
       "      <td>25</td>\n",
       "      <td>15604.0</td>\n",
       "      <td>92602</td>\n",
       "    </tr>\n",
       "    <tr>\n",
       "      <th>3</th>\n",
       "      <td>1</td>\n",
       "      <td>-1.290328</td>\n",
       "      <td>1</td>\n",
       "      <td>3</td>\n",
       "      <td>3</td>\n",
       "      <td>1</td>\n",
       "      <td>0</td>\n",
       "      <td>-1.050910</td>\n",
       "      <td>0</td>\n",
       "      <td>3</td>\n",
       "      <td>-1.479114</td>\n",
       "      <td>9</td>\n",
       "      <td>0.0</td>\n",
       "      <td>-0.373481</td>\n",
       "      <td>22</td>\n",
       "      <td>22410.0</td>\n",
       "      <td>22591</td>\n",
       "    </tr>\n",
       "    <tr>\n",
       "      <th>4</th>\n",
       "      <td>0</td>\n",
       "      <td>0.641255</td>\n",
       "      <td>1</td>\n",
       "      <td>5</td>\n",
       "      <td>5</td>\n",
       "      <td>2</td>\n",
       "      <td>0</td>\n",
       "      <td>0.755954</td>\n",
       "      <td>0</td>\n",
       "      <td>3</td>\n",
       "      <td>-0.412288</td>\n",
       "      <td>10</td>\n",
       "      <td>0.0</td>\n",
       "      <td>-0.013871</td>\n",
       "      <td>32</td>\n",
       "      <td>36022.0</td>\n",
       "      <td>125060</td>\n",
       "    </tr>\n",
       "  </tbody>\n",
       "</table>\n",
       "</div>"
      ],
      "text/plain": [
       "   Default  Asst_Reg  File_Status  Duration  GGGrade  Validation  \\\n",
       "0        0 -1.192816            1         3        2           1   \n",
       "1        0  0.345029            2         5        4           2   \n",
       "2        0  0.467990            2         5        3           2   \n",
       "3        1 -1.290328            1         3        3           1   \n",
       "4        0  0.641255            1         5        5           2   \n",
       "\n",
       "   Unpaid_2_years  Debt_to_Income  Deprecatory_Records  Home_Status  \\\n",
       "0               0       -1.361324                    0            4   \n",
       "1               0       -1.634229                    0            3   \n",
       "2               0       -0.409389                    0            3   \n",
       "3               0       -1.050910                    0            3   \n",
       "4               0        0.755954                    0            3   \n",
       "\n",
       "   Lend_Amount  Account_Open  Gross_Collection  Unpaid_Amount  Sub_GGGrade  \\\n",
       "0     1.228743            17               0.0       0.099572           19   \n",
       "1     0.943210            15               0.0      -0.493092           30   \n",
       "2    -0.600551             7               0.0      -0.675617           25   \n",
       "3    -1.479114             9               0.0      -0.373481           22   \n",
       "4    -0.412288            10               0.0      -0.013871           32   \n",
       "\n",
       "   Total_Unpaid_CL      ID  \n",
       "0          58598.0   95074  \n",
       "1          18924.0  134131  \n",
       "2          15604.0   92602  \n",
       "3          22410.0   22591  \n",
       "4          36022.0  125060  "
      ]
     },
     "execution_count": 72,
     "metadata": {},
     "output_type": "execute_result"
    }
   ],
   "source": [
    "df.head()"
   ]
  },
  {
   "cell_type": "code",
   "execution_count": 73,
   "id": "db9790b0",
   "metadata": {},
   "outputs": [],
   "source": [
    "#Splitting the data\n",
    "\n",
    "X = df.drop(columns=[\"Default\", \"ID\"], axis=1)\n",
    "Y = df[\"Default\"]"
   ]
  },
  {
   "cell_type": "code",
   "execution_count": 74,
   "id": "4450323f",
   "metadata": {},
   "outputs": [],
   "source": [
    "X_train, X_test, Y_train, Y_test = train_test_split(X, Y, test_size=0.25)"
   ]
  },
  {
   "cell_type": "code",
   "execution_count": 75,
   "id": "0aa3daec",
   "metadata": {},
   "outputs": [],
   "source": [
    "clf=GaussianNB()"
   ]
  },
  {
   "cell_type": "code",
   "execution_count": 76,
   "id": "58300535",
   "metadata": {},
   "outputs": [
    {
     "data": {
      "text/plain": [
       "GaussianNB()"
      ]
     },
     "execution_count": 76,
     "metadata": {},
     "output_type": "execute_result"
    }
   ],
   "source": [
    "clf.fit(X_train, Y_train)"
   ]
  },
  {
   "cell_type": "code",
   "execution_count": 77,
   "id": "499d2255",
   "metadata": {},
   "outputs": [
    {
     "data": {
      "text/plain": [
       "0.467722731272972"
      ]
     },
     "execution_count": 77,
     "metadata": {},
     "output_type": "execute_result"
    }
   ],
   "source": [
    "clf.score(X_train,Y_train)"
   ]
  },
  {
   "cell_type": "code",
   "execution_count": 78,
   "id": "229595b8",
   "metadata": {},
   "outputs": [],
   "source": [
    "Y_pred=clf.predict(X_test)"
   ]
  },
  {
   "cell_type": "code",
   "execution_count": 80,
   "id": "123b3a4c",
   "metadata": {},
   "outputs": [
    {
     "name": "stdout",
     "output_type": "stream",
     "text": [
      "Accuracy: 0.46473054822177357\n"
     ]
    }
   ],
   "source": [
    "accuracy=accuracy_score(Y_test,Y_pred)\n",
    "print(\"Accuracy:\", accuracy)"
   ]
  },
  {
   "cell_type": "code",
   "execution_count": 81,
   "id": "157f4f48",
   "metadata": {},
   "outputs": [
    {
     "data": {
      "text/plain": [
       "array([[  624, 17159],\n",
       "       [   74, 14338]], dtype=int64)"
      ]
     },
     "execution_count": 81,
     "metadata": {},
     "output_type": "execute_result"
    }
   ],
   "source": [
    "cm=confusion_matrix(Y_test, Y_pred)\n",
    "cm"
   ]
  },
  {
   "cell_type": "code",
   "execution_count": 82,
   "id": "d1073537",
   "metadata": {},
   "outputs": [
    {
     "name": "stdout",
     "output_type": "stream",
     "text": [
      "              precision    recall  f1-score   support\n",
      "\n",
      "           0      0.894     0.035     0.068     17783\n",
      "           1      0.455     0.995     0.625     14412\n",
      "\n",
      "    accuracy                          0.465     32195\n",
      "   macro avg      0.675     0.515     0.346     32195\n",
      "weighted avg      0.698     0.465     0.317     32195\n",
      "\n"
     ]
    }
   ],
   "source": [
    "report = classification_report(Y_test, Y_pred, digits=3)\n",
    "print(report)"
   ]
  },
  {
   "cell_type": "code",
   "execution_count": null,
   "id": "74b7a7ce",
   "metadata": {},
   "outputs": [],
   "source": []
  }
 ],
 "metadata": {
  "kernelspec": {
   "display_name": "Python 3",
   "language": "python",
   "name": "python3"
  },
  "language_info": {
   "codemirror_mode": {
    "name": "ipython",
    "version": 3
   },
   "file_extension": ".py",
   "mimetype": "text/x-python",
   "name": "python",
   "nbconvert_exporter": "python",
   "pygments_lexer": "ipython3",
   "version": "3.10.2 (tags/v3.10.2:a58ebcc, Jan 17 2022, 14:12:15) [MSC v.1929 64 bit (AMD64)]"
  },
  "vscode": {
   "interpreter": {
    "hash": "a3f6545dd1fec1b2b5fe103b9d09ea64ffacb714f69e8ba7696409618ad8bf5c"
   }
  }
 },
 "nbformat": 4,
 "nbformat_minor": 5
}
